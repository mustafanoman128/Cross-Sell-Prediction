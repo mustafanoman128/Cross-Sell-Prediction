{
 "cells": [
  {
   "cell_type": "markdown",
   "id": "0c514732",
   "metadata": {},
   "source": [
    "# Health Insurance Cross Sell Prediction: Identifying Potential Customers for Vehicle Insurance Conversion"
   ]
  },
  {
   "cell_type": "markdown",
   "id": "b12697a9",
   "metadata": {},
   "source": [
    "The primary objective of this project is to assist insurance companies in optimizing their cross-selling approaches by identifying potential customers among their existing health insurance clientele interested in purchasing vehicle insurance. Cross-selling is a cornerstone tactic for insurers, amplifying revenue and fortifying customer retention."
   ]
  },
  {
   "cell_type": "markdown",
   "id": "2a486249",
   "metadata": {},
   "source": [
    "# Module 1\n",
    "\n",
    "## Data Exploration"
   ]
  },
  {
   "cell_type": "code",
   "execution_count": 69,
   "id": "6028a767",
   "metadata": {},
   "outputs": [
    {
     "data": {
      "text/html": [
       "<div>\n",
       "<style scoped>\n",
       "    .dataframe tbody tr th:only-of-type {\n",
       "        vertical-align: middle;\n",
       "    }\n",
       "\n",
       "    .dataframe tbody tr th {\n",
       "        vertical-align: top;\n",
       "    }\n",
       "\n",
       "    .dataframe thead th {\n",
       "        text-align: right;\n",
       "    }\n",
       "</style>\n",
       "<table border=\"1\" class=\"dataframe\">\n",
       "  <thead>\n",
       "    <tr style=\"text-align: right;\">\n",
       "      <th></th>\n",
       "      <th>id</th>\n",
       "      <th>Gender</th>\n",
       "      <th>Age</th>\n",
       "      <th>Driving_License</th>\n",
       "      <th>Region_Code</th>\n",
       "      <th>Previously_Insured</th>\n",
       "      <th>Vehicle_Age</th>\n",
       "      <th>Vehicle_Damage</th>\n",
       "      <th>Annual_Premium</th>\n",
       "      <th>Policy_Sales_Channel</th>\n",
       "      <th>Vintage</th>\n",
       "      <th>Response</th>\n",
       "    </tr>\n",
       "  </thead>\n",
       "  <tbody>\n",
       "    <tr>\n",
       "      <th>0</th>\n",
       "      <td>46048</td>\n",
       "      <td>Male</td>\n",
       "      <td>22</td>\n",
       "      <td>1</td>\n",
       "      <td>26.0</td>\n",
       "      <td>1</td>\n",
       "      <td>&lt; 1 Year</td>\n",
       "      <td>No</td>\n",
       "      <td>27460.0</td>\n",
       "      <td>152.0</td>\n",
       "      <td>172</td>\n",
       "      <td>0</td>\n",
       "    </tr>\n",
       "    <tr>\n",
       "      <th>1</th>\n",
       "      <td>228395</td>\n",
       "      <td>Male</td>\n",
       "      <td>29</td>\n",
       "      <td>1</td>\n",
       "      <td>15.0</td>\n",
       "      <td>0</td>\n",
       "      <td>&lt; 1 Year</td>\n",
       "      <td>Yes</td>\n",
       "      <td>28982.0</td>\n",
       "      <td>152.0</td>\n",
       "      <td>207</td>\n",
       "      <td>0</td>\n",
       "    </tr>\n",
       "    <tr>\n",
       "      <th>2</th>\n",
       "      <td>170449</td>\n",
       "      <td>Male</td>\n",
       "      <td>25</td>\n",
       "      <td>1</td>\n",
       "      <td>2.0</td>\n",
       "      <td>0</td>\n",
       "      <td>&lt; 1 Year</td>\n",
       "      <td>No</td>\n",
       "      <td>25067.0</td>\n",
       "      <td>152.0</td>\n",
       "      <td>228</td>\n",
       "      <td>0</td>\n",
       "    </tr>\n",
       "    <tr>\n",
       "      <th>3</th>\n",
       "      <td>92900</td>\n",
       "      <td>Male</td>\n",
       "      <td>34</td>\n",
       "      <td>1</td>\n",
       "      <td>47.0</td>\n",
       "      <td>1</td>\n",
       "      <td>1-2 Year</td>\n",
       "      <td>Yes</td>\n",
       "      <td>2630.0</td>\n",
       "      <td>156.0</td>\n",
       "      <td>193</td>\n",
       "      <td>0</td>\n",
       "    </tr>\n",
       "    <tr>\n",
       "      <th>4</th>\n",
       "      <td>257877</td>\n",
       "      <td>Male</td>\n",
       "      <td>35</td>\n",
       "      <td>1</td>\n",
       "      <td>28.0</td>\n",
       "      <td>0</td>\n",
       "      <td>1-2 Year</td>\n",
       "      <td>Yes</td>\n",
       "      <td>40499.0</td>\n",
       "      <td>124.0</td>\n",
       "      <td>77</td>\n",
       "      <td>1</td>\n",
       "    </tr>\n",
       "  </tbody>\n",
       "</table>\n",
       "</div>"
      ],
      "text/plain": [
       "       id Gender  Age  Driving_License  Region_Code  Previously_Insured  \\\n",
       "0   46048   Male   22                1         26.0                   1   \n",
       "1  228395   Male   29                1         15.0                   0   \n",
       "2  170449   Male   25                1          2.0                   0   \n",
       "3   92900   Male   34                1         47.0                   1   \n",
       "4  257877   Male   35                1         28.0                   0   \n",
       "\n",
       "  Vehicle_Age Vehicle_Damage  Annual_Premium  Policy_Sales_Channel  Vintage  \\\n",
       "0    < 1 Year             No         27460.0                 152.0      172   \n",
       "1    < 1 Year            Yes         28982.0                 152.0      207   \n",
       "2    < 1 Year             No         25067.0                 152.0      228   \n",
       "3    1-2 Year            Yes          2630.0                 156.0      193   \n",
       "4    1-2 Year            Yes         40499.0                 124.0       77   \n",
       "\n",
       "   Response  \n",
       "0         0  \n",
       "1         0  \n",
       "2         0  \n",
       "3         0  \n",
       "4         1  "
      ]
     },
     "execution_count": 69,
     "metadata": {},
     "output_type": "execute_result"
    }
   ],
   "source": [
    "import pandas as pd\n",
    "import matplotlib.pyplot as plt\n",
    "import seaborn as sns\n",
    "\n",
    "# Load the dataset\n",
    "df = pd.read_csv('insurance_dataset.csv')\n",
    "\n",
    "# Display the first few rows of the dataset to understand its structure\n",
    "df.head()\n"
   ]
  },
  {
   "cell_type": "code",
   "execution_count": 70,
   "id": "5437596f",
   "metadata": {},
   "outputs": [
    {
     "data": {
      "text/plain": [
       "id                      0\n",
       "Gender                  0\n",
       "Age                     0\n",
       "Driving_License         0\n",
       "Region_Code             0\n",
       "Previously_Insured      0\n",
       "Vehicle_Age             0\n",
       "Vehicle_Damage          0\n",
       "Annual_Premium          0\n",
       "Policy_Sales_Channel    0\n",
       "Vintage                 0\n",
       "Response                0\n",
       "dtype: int64"
      ]
     },
     "execution_count": 70,
     "metadata": {},
     "output_type": "execute_result"
    }
   ],
   "source": [
    "# Identifying and quantifying null values in the dataset\n",
    "sumofnull = df.isnull().sum()\n",
    "sumofnull\n"
   ]
  },
  {
   "cell_type": "code",
   "execution_count": 71,
   "id": "18cded18",
   "metadata": {},
   "outputs": [
    {
     "data": {
      "text/plain": [
       "id                        int64\n",
       "Gender                   object\n",
       "Age                       int64\n",
       "Driving_License           int64\n",
       "Region_Code             float64\n",
       "Previously_Insured        int64\n",
       "Vehicle_Age              object\n",
       "Vehicle_Damage           object\n",
       "Annual_Premium          float64\n",
       "Policy_Sales_Channel    float64\n",
       "Vintage                   int64\n",
       "Response                  int64\n",
       "dtype: object"
      ]
     },
     "execution_count": 71,
     "metadata": {},
     "output_type": "execute_result"
    }
   ],
   "source": [
    "# Examining the data types of each column in the dataset\n",
    "dtype = df.dtypes\n",
    "dtype"
   ]
  },
  {
   "cell_type": "code",
   "execution_count": 72,
   "id": "1459039d",
   "metadata": {},
   "outputs": [
    {
     "data": {
      "text/html": [
       "<div>\n",
       "<style scoped>\n",
       "    .dataframe tbody tr th:only-of-type {\n",
       "        vertical-align: middle;\n",
       "    }\n",
       "\n",
       "    .dataframe tbody tr th {\n",
       "        vertical-align: top;\n",
       "    }\n",
       "\n",
       "    .dataframe thead th {\n",
       "        text-align: right;\n",
       "    }\n",
       "</style>\n",
       "<table border=\"1\" class=\"dataframe\">\n",
       "  <thead>\n",
       "    <tr style=\"text-align: right;\">\n",
       "      <th></th>\n",
       "      <th>id</th>\n",
       "      <th>Age</th>\n",
       "      <th>Driving_License</th>\n",
       "      <th>Region_Code</th>\n",
       "      <th>Previously_Insured</th>\n",
       "      <th>Annual_Premium</th>\n",
       "      <th>Policy_Sales_Channel</th>\n",
       "      <th>Vintage</th>\n",
       "      <th>Response</th>\n",
       "    </tr>\n",
       "  </thead>\n",
       "  <tbody>\n",
       "    <tr>\n",
       "      <th>count</th>\n",
       "      <td>50000.000000</td>\n",
       "      <td>50000.000000</td>\n",
       "      <td>50000.000000</td>\n",
       "      <td>50000.000000</td>\n",
       "      <td>50000.000000</td>\n",
       "      <td>50000.000000</td>\n",
       "      <td>50000.00000</td>\n",
       "      <td>50000.000000</td>\n",
       "      <td>50000.000000</td>\n",
       "    </tr>\n",
       "    <tr>\n",
       "      <th>mean</th>\n",
       "      <td>190360.481080</td>\n",
       "      <td>38.917040</td>\n",
       "      <td>0.998140</td>\n",
       "      <td>26.403980</td>\n",
       "      <td>0.456260</td>\n",
       "      <td>30651.202720</td>\n",
       "      <td>111.74360</td>\n",
       "      <td>154.520040</td>\n",
       "      <td>0.122780</td>\n",
       "    </tr>\n",
       "    <tr>\n",
       "      <th>std</th>\n",
       "      <td>110129.705102</td>\n",
       "      <td>15.547106</td>\n",
       "      <td>0.043088</td>\n",
       "      <td>13.228193</td>\n",
       "      <td>0.498088</td>\n",
       "      <td>16856.326189</td>\n",
       "      <td>54.29231</td>\n",
       "      <td>83.665823</td>\n",
       "      <td>0.328188</td>\n",
       "    </tr>\n",
       "    <tr>\n",
       "      <th>min</th>\n",
       "      <td>3.000000</td>\n",
       "      <td>20.000000</td>\n",
       "      <td>0.000000</td>\n",
       "      <td>0.000000</td>\n",
       "      <td>0.000000</td>\n",
       "      <td>2630.000000</td>\n",
       "      <td>1.00000</td>\n",
       "      <td>10.000000</td>\n",
       "      <td>0.000000</td>\n",
       "    </tr>\n",
       "    <tr>\n",
       "      <th>25%</th>\n",
       "      <td>94695.500000</td>\n",
       "      <td>25.000000</td>\n",
       "      <td>1.000000</td>\n",
       "      <td>15.000000</td>\n",
       "      <td>0.000000</td>\n",
       "      <td>24555.000000</td>\n",
       "      <td>26.00000</td>\n",
       "      <td>82.000000</td>\n",
       "      <td>0.000000</td>\n",
       "    </tr>\n",
       "    <tr>\n",
       "      <th>50%</th>\n",
       "      <td>190046.000000</td>\n",
       "      <td>36.000000</td>\n",
       "      <td>1.000000</td>\n",
       "      <td>28.000000</td>\n",
       "      <td>0.000000</td>\n",
       "      <td>31748.000000</td>\n",
       "      <td>125.00000</td>\n",
       "      <td>155.000000</td>\n",
       "      <td>0.000000</td>\n",
       "    </tr>\n",
       "    <tr>\n",
       "      <th>75%</th>\n",
       "      <td>285516.250000</td>\n",
       "      <td>50.000000</td>\n",
       "      <td>1.000000</td>\n",
       "      <td>35.000000</td>\n",
       "      <td>1.000000</td>\n",
       "      <td>39476.000000</td>\n",
       "      <td>152.00000</td>\n",
       "      <td>227.000000</td>\n",
       "      <td>0.000000</td>\n",
       "    </tr>\n",
       "    <tr>\n",
       "      <th>max</th>\n",
       "      <td>381105.000000</td>\n",
       "      <td>85.000000</td>\n",
       "      <td>1.000000</td>\n",
       "      <td>52.000000</td>\n",
       "      <td>1.000000</td>\n",
       "      <td>540165.000000</td>\n",
       "      <td>163.00000</td>\n",
       "      <td>299.000000</td>\n",
       "      <td>1.000000</td>\n",
       "    </tr>\n",
       "  </tbody>\n",
       "</table>\n",
       "</div>"
      ],
      "text/plain": [
       "                  id           Age  Driving_License   Region_Code  \\\n",
       "count   50000.000000  50000.000000     50000.000000  50000.000000   \n",
       "mean   190360.481080     38.917040         0.998140     26.403980   \n",
       "std    110129.705102     15.547106         0.043088     13.228193   \n",
       "min         3.000000     20.000000         0.000000      0.000000   \n",
       "25%     94695.500000     25.000000         1.000000     15.000000   \n",
       "50%    190046.000000     36.000000         1.000000     28.000000   \n",
       "75%    285516.250000     50.000000         1.000000     35.000000   \n",
       "max    381105.000000     85.000000         1.000000     52.000000   \n",
       "\n",
       "       Previously_Insured  Annual_Premium  Policy_Sales_Channel       Vintage  \\\n",
       "count        50000.000000    50000.000000           50000.00000  50000.000000   \n",
       "mean             0.456260    30651.202720             111.74360    154.520040   \n",
       "std              0.498088    16856.326189              54.29231     83.665823   \n",
       "min              0.000000     2630.000000               1.00000     10.000000   \n",
       "25%              0.000000    24555.000000              26.00000     82.000000   \n",
       "50%              0.000000    31748.000000             125.00000    155.000000   \n",
       "75%              1.000000    39476.000000             152.00000    227.000000   \n",
       "max              1.000000   540165.000000             163.00000    299.000000   \n",
       "\n",
       "           Response  \n",
       "count  50000.000000  \n",
       "mean       0.122780  \n",
       "std        0.328188  \n",
       "min        0.000000  \n",
       "25%        0.000000  \n",
       "50%        0.000000  \n",
       "75%        0.000000  \n",
       "max        1.000000  "
      ]
     },
     "execution_count": 72,
     "metadata": {},
     "output_type": "execute_result"
    }
   ],
   "source": [
    "# Generating descriptive statistics for the dataset\n",
    "describe = df.describe()\n",
    "describe\n"
   ]
  },
  {
   "cell_type": "code",
   "execution_count": 73,
   "id": "b00e7ddc",
   "metadata": {},
   "outputs": [
    {
     "data": {
      "text/plain": [
       "0    43861\n",
       "1     6139\n",
       "Name: Response, dtype: int64"
      ]
     },
     "execution_count": 73,
     "metadata": {},
     "output_type": "execute_result"
    }
   ],
   "source": [
    "# Calculating the count of unique values in the 'Response' column\n",
    "target_counts = df['Response'].value_counts()\n",
    "target_counts\n"
   ]
  },
  {
   "cell_type": "markdown",
   "id": "07890747",
   "metadata": {},
   "source": [
    "# Module 2\n",
    "\n",
    "## Data Pre-Processing"
   ]
  },
  {
   "cell_type": "code",
   "execution_count": 74,
   "id": "0958d1fa",
   "metadata": {},
   "outputs": [
    {
     "data": {
      "text/plain": [
       "4"
      ]
     },
     "execution_count": 74,
     "metadata": {},
     "output_type": "execute_result"
    }
   ],
   "source": [
    "# Identifying and counting the duplicate records in the dataset\n",
    "duplicates = df.duplicated().sum()\n",
    "duplicates"
   ]
  },
  {
   "cell_type": "code",
   "execution_count": 75,
   "id": "92215047",
   "metadata": {},
   "outputs": [
    {
     "data": {
      "text/html": [
       "<div>\n",
       "<style scoped>\n",
       "    .dataframe tbody tr th:only-of-type {\n",
       "        vertical-align: middle;\n",
       "    }\n",
       "\n",
       "    .dataframe tbody tr th {\n",
       "        vertical-align: top;\n",
       "    }\n",
       "\n",
       "    .dataframe thead th {\n",
       "        text-align: right;\n",
       "    }\n",
       "</style>\n",
       "<table border=\"1\" class=\"dataframe\">\n",
       "  <thead>\n",
       "    <tr style=\"text-align: right;\">\n",
       "      <th></th>\n",
       "      <th>id</th>\n",
       "      <th>Gender</th>\n",
       "      <th>Age</th>\n",
       "      <th>Driving_License</th>\n",
       "      <th>Region_Code</th>\n",
       "      <th>Previously_Insured</th>\n",
       "      <th>Vehicle_Age</th>\n",
       "      <th>Vehicle_Damage</th>\n",
       "      <th>Annual_Premium</th>\n",
       "      <th>Policy_Sales_Channel</th>\n",
       "      <th>Vintage</th>\n",
       "      <th>Response</th>\n",
       "    </tr>\n",
       "  </thead>\n",
       "  <tbody>\n",
       "    <tr>\n",
       "      <th>0</th>\n",
       "      <td>46048</td>\n",
       "      <td>Male</td>\n",
       "      <td>22</td>\n",
       "      <td>1</td>\n",
       "      <td>26.0</td>\n",
       "      <td>1</td>\n",
       "      <td>&lt; 1 Year</td>\n",
       "      <td>No</td>\n",
       "      <td>27460.0</td>\n",
       "      <td>152.0</td>\n",
       "      <td>172</td>\n",
       "      <td>0</td>\n",
       "    </tr>\n",
       "    <tr>\n",
       "      <th>1</th>\n",
       "      <td>228395</td>\n",
       "      <td>Male</td>\n",
       "      <td>29</td>\n",
       "      <td>1</td>\n",
       "      <td>15.0</td>\n",
       "      <td>0</td>\n",
       "      <td>&lt; 1 Year</td>\n",
       "      <td>Yes</td>\n",
       "      <td>28982.0</td>\n",
       "      <td>152.0</td>\n",
       "      <td>207</td>\n",
       "      <td>0</td>\n",
       "    </tr>\n",
       "    <tr>\n",
       "      <th>2</th>\n",
       "      <td>170449</td>\n",
       "      <td>Male</td>\n",
       "      <td>25</td>\n",
       "      <td>1</td>\n",
       "      <td>2.0</td>\n",
       "      <td>0</td>\n",
       "      <td>&lt; 1 Year</td>\n",
       "      <td>No</td>\n",
       "      <td>25067.0</td>\n",
       "      <td>152.0</td>\n",
       "      <td>228</td>\n",
       "      <td>0</td>\n",
       "    </tr>\n",
       "    <tr>\n",
       "      <th>3</th>\n",
       "      <td>92900</td>\n",
       "      <td>Male</td>\n",
       "      <td>34</td>\n",
       "      <td>1</td>\n",
       "      <td>47.0</td>\n",
       "      <td>1</td>\n",
       "      <td>1-2 Year</td>\n",
       "      <td>Yes</td>\n",
       "      <td>2630.0</td>\n",
       "      <td>156.0</td>\n",
       "      <td>193</td>\n",
       "      <td>0</td>\n",
       "    </tr>\n",
       "    <tr>\n",
       "      <th>4</th>\n",
       "      <td>257877</td>\n",
       "      <td>Male</td>\n",
       "      <td>35</td>\n",
       "      <td>1</td>\n",
       "      <td>28.0</td>\n",
       "      <td>0</td>\n",
       "      <td>1-2 Year</td>\n",
       "      <td>Yes</td>\n",
       "      <td>40499.0</td>\n",
       "      <td>124.0</td>\n",
       "      <td>77</td>\n",
       "      <td>1</td>\n",
       "    </tr>\n",
       "  </tbody>\n",
       "</table>\n",
       "</div>"
      ],
      "text/plain": [
       "       id Gender  Age  Driving_License  Region_Code  Previously_Insured  \\\n",
       "0   46048   Male   22                1         26.0                   1   \n",
       "1  228395   Male   29                1         15.0                   0   \n",
       "2  170449   Male   25                1          2.0                   0   \n",
       "3   92900   Male   34                1         47.0                   1   \n",
       "4  257877   Male   35                1         28.0                   0   \n",
       "\n",
       "  Vehicle_Age Vehicle_Damage  Annual_Premium  Policy_Sales_Channel  Vintage  \\\n",
       "0    < 1 Year             No         27460.0                 152.0      172   \n",
       "1    < 1 Year            Yes         28982.0                 152.0      207   \n",
       "2    < 1 Year             No         25067.0                 152.0      228   \n",
       "3    1-2 Year            Yes          2630.0                 156.0      193   \n",
       "4    1-2 Year            Yes         40499.0                 124.0       77   \n",
       "\n",
       "   Response  \n",
       "0         0  \n",
       "1         0  \n",
       "2         0  \n",
       "3         0  \n",
       "4         1  "
      ]
     },
     "execution_count": 75,
     "metadata": {},
     "output_type": "execute_result"
    }
   ],
   "source": [
    "# Eliminating duplicate records from the dataset\n",
    "df.drop_duplicates(inplace=True)\n",
    "\n",
    "# Displaying the resulting DataFrame after removing duplicates\n",
    "df.head()"
   ]
  },
  {
   "cell_type": "code",
   "execution_count": 76,
   "id": "942e13e4",
   "metadata": {},
   "outputs": [
    {
     "data": {
      "text/html": [
       "<div>\n",
       "<style scoped>\n",
       "    .dataframe tbody tr th:only-of-type {\n",
       "        vertical-align: middle;\n",
       "    }\n",
       "\n",
       "    .dataframe tbody tr th {\n",
       "        vertical-align: top;\n",
       "    }\n",
       "\n",
       "    .dataframe thead th {\n",
       "        text-align: right;\n",
       "    }\n",
       "</style>\n",
       "<table border=\"1\" class=\"dataframe\">\n",
       "  <thead>\n",
       "    <tr style=\"text-align: right;\">\n",
       "      <th></th>\n",
       "      <th>Gender</th>\n",
       "      <th>Age</th>\n",
       "      <th>Driving_License</th>\n",
       "      <th>Region_Code</th>\n",
       "      <th>Previously_Insured</th>\n",
       "      <th>Vehicle_Age</th>\n",
       "      <th>Vehicle_Damage</th>\n",
       "      <th>Annual_Premium</th>\n",
       "      <th>Policy_Sales_Channel</th>\n",
       "      <th>Vintage</th>\n",
       "      <th>Response</th>\n",
       "    </tr>\n",
       "  </thead>\n",
       "  <tbody>\n",
       "    <tr>\n",
       "      <th>0</th>\n",
       "      <td>Male</td>\n",
       "      <td>22</td>\n",
       "      <td>1</td>\n",
       "      <td>26.0</td>\n",
       "      <td>1</td>\n",
       "      <td>&lt; 1 Year</td>\n",
       "      <td>No</td>\n",
       "      <td>27460.0</td>\n",
       "      <td>152.0</td>\n",
       "      <td>172</td>\n",
       "      <td>0</td>\n",
       "    </tr>\n",
       "    <tr>\n",
       "      <th>1</th>\n",
       "      <td>Male</td>\n",
       "      <td>29</td>\n",
       "      <td>1</td>\n",
       "      <td>15.0</td>\n",
       "      <td>0</td>\n",
       "      <td>&lt; 1 Year</td>\n",
       "      <td>Yes</td>\n",
       "      <td>28982.0</td>\n",
       "      <td>152.0</td>\n",
       "      <td>207</td>\n",
       "      <td>0</td>\n",
       "    </tr>\n",
       "    <tr>\n",
       "      <th>2</th>\n",
       "      <td>Male</td>\n",
       "      <td>25</td>\n",
       "      <td>1</td>\n",
       "      <td>2.0</td>\n",
       "      <td>0</td>\n",
       "      <td>&lt; 1 Year</td>\n",
       "      <td>No</td>\n",
       "      <td>25067.0</td>\n",
       "      <td>152.0</td>\n",
       "      <td>228</td>\n",
       "      <td>0</td>\n",
       "    </tr>\n",
       "    <tr>\n",
       "      <th>3</th>\n",
       "      <td>Male</td>\n",
       "      <td>34</td>\n",
       "      <td>1</td>\n",
       "      <td>47.0</td>\n",
       "      <td>1</td>\n",
       "      <td>1-2 Year</td>\n",
       "      <td>Yes</td>\n",
       "      <td>2630.0</td>\n",
       "      <td>156.0</td>\n",
       "      <td>193</td>\n",
       "      <td>0</td>\n",
       "    </tr>\n",
       "    <tr>\n",
       "      <th>4</th>\n",
       "      <td>Male</td>\n",
       "      <td>35</td>\n",
       "      <td>1</td>\n",
       "      <td>28.0</td>\n",
       "      <td>0</td>\n",
       "      <td>1-2 Year</td>\n",
       "      <td>Yes</td>\n",
       "      <td>40499.0</td>\n",
       "      <td>124.0</td>\n",
       "      <td>77</td>\n",
       "      <td>1</td>\n",
       "    </tr>\n",
       "  </tbody>\n",
       "</table>\n",
       "</div>"
      ],
      "text/plain": [
       "  Gender  Age  Driving_License  Region_Code  Previously_Insured Vehicle_Age  \\\n",
       "0   Male   22                1         26.0                   1    < 1 Year   \n",
       "1   Male   29                1         15.0                   0    < 1 Year   \n",
       "2   Male   25                1          2.0                   0    < 1 Year   \n",
       "3   Male   34                1         47.0                   1    1-2 Year   \n",
       "4   Male   35                1         28.0                   0    1-2 Year   \n",
       "\n",
       "  Vehicle_Damage  Annual_Premium  Policy_Sales_Channel  Vintage  Response  \n",
       "0             No         27460.0                 152.0      172         0  \n",
       "1            Yes         28982.0                 152.0      207         0  \n",
       "2             No         25067.0                 152.0      228         0  \n",
       "3            Yes          2630.0                 156.0      193         0  \n",
       "4            Yes         40499.0                 124.0       77         1  "
      ]
     },
     "execution_count": 76,
     "metadata": {},
     "output_type": "execute_result"
    }
   ],
   "source": [
    "# Creating a copy of the DataFrame and removing the 'id' column\n",
    "data = df.copy()\n",
    "data.drop('id', axis=1, inplace=True)\n",
    "\n",
    "# Showing the resulting DataFrame\n",
    "data.head()\n"
   ]
  },
  {
   "cell_type": "code",
   "execution_count": 77,
   "id": "367f666c",
   "metadata": {},
   "outputs": [
    {
     "data": {
      "text/html": [
       "<div>\n",
       "<style scoped>\n",
       "    .dataframe tbody tr th:only-of-type {\n",
       "        vertical-align: middle;\n",
       "    }\n",
       "\n",
       "    .dataframe tbody tr th {\n",
       "        vertical-align: top;\n",
       "    }\n",
       "\n",
       "    .dataframe thead th {\n",
       "        text-align: right;\n",
       "    }\n",
       "</style>\n",
       "<table border=\"1\" class=\"dataframe\">\n",
       "  <thead>\n",
       "    <tr style=\"text-align: right;\">\n",
       "      <th></th>\n",
       "      <th>Gender</th>\n",
       "      <th>Age</th>\n",
       "      <th>Driving_License</th>\n",
       "      <th>Region_Code</th>\n",
       "      <th>Previously_Insured</th>\n",
       "      <th>Vehicle_Age</th>\n",
       "      <th>Vehicle_Damage</th>\n",
       "      <th>Annual_Premium</th>\n",
       "      <th>Policy_Sales_Channel</th>\n",
       "      <th>Vintage</th>\n",
       "      <th>Response</th>\n",
       "    </tr>\n",
       "  </thead>\n",
       "  <tbody>\n",
       "    <tr>\n",
       "      <th>0</th>\n",
       "      <td>1</td>\n",
       "      <td>22</td>\n",
       "      <td>1</td>\n",
       "      <td>26.0</td>\n",
       "      <td>1</td>\n",
       "      <td>1</td>\n",
       "      <td>0</td>\n",
       "      <td>27460.0</td>\n",
       "      <td>152.0</td>\n",
       "      <td>172</td>\n",
       "      <td>0</td>\n",
       "    </tr>\n",
       "    <tr>\n",
       "      <th>1</th>\n",
       "      <td>1</td>\n",
       "      <td>29</td>\n",
       "      <td>1</td>\n",
       "      <td>15.0</td>\n",
       "      <td>0</td>\n",
       "      <td>1</td>\n",
       "      <td>1</td>\n",
       "      <td>28982.0</td>\n",
       "      <td>152.0</td>\n",
       "      <td>207</td>\n",
       "      <td>0</td>\n",
       "    </tr>\n",
       "    <tr>\n",
       "      <th>2</th>\n",
       "      <td>1</td>\n",
       "      <td>25</td>\n",
       "      <td>1</td>\n",
       "      <td>2.0</td>\n",
       "      <td>0</td>\n",
       "      <td>1</td>\n",
       "      <td>0</td>\n",
       "      <td>25067.0</td>\n",
       "      <td>152.0</td>\n",
       "      <td>228</td>\n",
       "      <td>0</td>\n",
       "    </tr>\n",
       "    <tr>\n",
       "      <th>3</th>\n",
       "      <td>1</td>\n",
       "      <td>34</td>\n",
       "      <td>1</td>\n",
       "      <td>47.0</td>\n",
       "      <td>1</td>\n",
       "      <td>2</td>\n",
       "      <td>1</td>\n",
       "      <td>2630.0</td>\n",
       "      <td>156.0</td>\n",
       "      <td>193</td>\n",
       "      <td>0</td>\n",
       "    </tr>\n",
       "    <tr>\n",
       "      <th>4</th>\n",
       "      <td>1</td>\n",
       "      <td>35</td>\n",
       "      <td>1</td>\n",
       "      <td>28.0</td>\n",
       "      <td>0</td>\n",
       "      <td>2</td>\n",
       "      <td>1</td>\n",
       "      <td>40499.0</td>\n",
       "      <td>124.0</td>\n",
       "      <td>77</td>\n",
       "      <td>1</td>\n",
       "    </tr>\n",
       "  </tbody>\n",
       "</table>\n",
       "</div>"
      ],
      "text/plain": [
       "   Gender  Age  Driving_License  Region_Code  Previously_Insured  Vehicle_Age  \\\n",
       "0       1   22                1         26.0                   1            1   \n",
       "1       1   29                1         15.0                   0            1   \n",
       "2       1   25                1          2.0                   0            1   \n",
       "3       1   34                1         47.0                   1            2   \n",
       "4       1   35                1         28.0                   0            2   \n",
       "\n",
       "   Vehicle_Damage  Annual_Premium  Policy_Sales_Channel  Vintage  Response  \n",
       "0               0         27460.0                 152.0      172         0  \n",
       "1               1         28982.0                 152.0      207         0  \n",
       "2               0         25067.0                 152.0      228         0  \n",
       "3               1          2630.0                 156.0      193         0  \n",
       "4               1         40499.0                 124.0       77         1  "
      ]
     },
     "execution_count": 77,
     "metadata": {},
     "output_type": "execute_result"
    }
   ],
   "source": [
    "# Encoding categorical features in the dataset\n",
    "data['Gender'] = data['Gender'].replace({'Male': 1, 'Female': 0})\n",
    "data['Vehicle_Damage'] = data['Vehicle_Damage'].replace({'Yes': 1, 'No': 0})\n",
    "data['Vehicle_Age'] = data['Vehicle_Age'].replace({'< 1 Year': 1, '1-2 Year': 2, '> 2 Years': 3})\n",
    "\n",
    "# Showing the DataFrame after the updates\n",
    "data.head()\n"
   ]
  },
  {
   "cell_type": "code",
   "execution_count": 78,
   "id": "3c115c3e",
   "metadata": {},
   "outputs": [
    {
     "data": {
      "text/plain": [
       "Gender                    int64\n",
       "Age                       int64\n",
       "Driving_License           int64\n",
       "Region_Code             float64\n",
       "Previously_Insured        int64\n",
       "Vehicle_Age               int64\n",
       "Vehicle_Damage            int64\n",
       "Annual_Premium          float64\n",
       "Policy_Sales_Channel    float64\n",
       "Vintage                   int64\n",
       "Response                  int64\n",
       "dtype: object"
      ]
     },
     "execution_count": 78,
     "metadata": {},
     "output_type": "execute_result"
    }
   ],
   "source": [
    "# Reviewing the data types of each column in the transformed dataset\n",
    "datatypes = data.dtypes\n",
    "datatypes\n"
   ]
  },
  {
   "cell_type": "markdown",
   "id": "2bbcc28e",
   "metadata": {},
   "source": [
    "# Module 3\n",
    "\n",
    "## Data Visualisation"
   ]
  },
  {
   "cell_type": "markdown",
   "id": "c43ebf59",
   "metadata": {},
   "source": [
    "Heatmap visualization provides a graphical representation of the correlation values between variables. Understanding these correlations is vital for identifying interdependencies and potential multicollinearity between features. This analysis assists in feature selection and model development for precise health insurance cross-selling predictions."
   ]
  },
  {
   "cell_type": "code",
   "execution_count": 105,
   "id": "549a90b8",
   "metadata": {},
   "outputs": [
    {
     "data": {
      "image/png": "[encoded data removed]",
      "text/plain": [
       "<Figure size 800x800 with 2 Axes>"
      ]
     },
     "metadata": {},
     "output_type": "display_data"
    }
   ],
   "source": [
    "# Re-generating the heatmap with numeric labels\n",
    "plt.figure(figsize=(8, 8))\n",
    "sns.heatmap(corr_data, annot=True, fmt=\".2f\", cmap=\"coolwarm\")\n",
    "plt.title(\"Correlation Matrix with Numeric Labels - Health Insurance Dataset\")\n",
    "plt.show()\n",
    "\n"
   ]
  },
  {
   "cell_type": "markdown",
   "id": "d485ba34",
   "metadata": {},
   "source": [
    "This visualization presents a clear depiction of the class distribution, helping to understand the balance or imbalance between different response classes. Such visualizations are crucial for assessing the composition of the target variable and its potential impact on the modeling process"
   ]
  },
  {
   "cell_type": "code",
   "execution_count": 80,
   "id": "4b4cf2fd",
   "metadata": {},
   "outputs": [
    {
     "data": {
      "image/png": "[encoded data removed]",
      "text/plain": [
       "<Figure size 640x480 with 1 Axes>"
      ]
     },
     "metadata": {},
     "output_type": "display_data"
    }
   ],
   "source": [
    "# Visualizing the distribution of the 'Response' variable\n",
    "response_ax = sns.countplot(x='Response', data=data)\n",
    "plt.title(\"Distribution of Response Classes in Health Insurance Dataset\")\n",
    "plt.show()\n"
   ]
  },
  {
   "cell_type": "code",
   "execution_count": 81,
   "id": "987efaae",
   "metadata": {},
   "outputs": [
    {
     "data": {
      "image/png": "[encoded data removed]",
      "text/plain": [
       "<Figure size 640x480 with 1 Axes>"
      ]
     },
     "metadata": {},
     "output_type": "display_data"
    }
   ],
   "source": [
    "# Visualizing the distribution of the 'Gender' variable\n",
    "gender_ax = sns.countplot(x='Gender', data=data)\n",
    "plt.title(\"Distribution of Gender in Health Insurance Dataset\")\n",
    "plt.xticks([0, 1], ['Female', 'Male'])  # Setting custom labels for clarity\n",
    "plt.show()\n"
   ]
  },
  {
   "cell_type": "code",
   "execution_count": 82,
   "id": "4e6ab116",
   "metadata": {},
   "outputs": [
    {
     "data": {
      "image/png": "[encoded data removed]",
      "text/plain": [
       "<Figure size 640x480 with 1 Axes>"
      ]
     },
     "metadata": {},
     "output_type": "display_data"
    }
   ],
   "source": [
    "# Visualizing the distribution of the 'Vehicle_Damage' variable\n",
    "veh_dmg_ax = sns.countplot(x='Vehicle_Damage', data=data)\n",
    "plt.title(\"Distribution of Vehicle Damage in Health Insurance Dataset\")\n",
    "plt.xticks([0, 1], ['No', 'Yes'])  # Setting custom labels for clarity\n",
    "plt.show()\n"
   ]
  },
  {
   "cell_type": "markdown",
   "id": "35b3f083",
   "metadata": {},
   "source": [
    "The visualization portrays the distribution of responses based on whether vehicle damage exists or not. Understanding this relationship is crucial for evaluating how the presence or absence of vehicle damage might influence the response class, providing insights for health insurance cross-selling predictions."
   ]
  },
  {
   "cell_type": "code",
   "execution_count": 83,
   "id": "78c7250f",
   "metadata": {},
   "outputs": [
    {
     "data": {
      "image/png": "[encoded data removed]",
      "text/plain": [
       "<Figure size 640x480 with 1 Axes>"
      ]
     },
     "metadata": {},
     "output_type": "display_data"
    }
   ],
   "source": [
    "# Analyzing the 'Response' variable with respect to 'Vehicle_Damage'\n",
    "dmg_vs_resp_ax = sns.countplot(x='Vehicle_Damage', hue='Response', data=data)\n",
    "plt.title(\"Response Distribution with Respect to Vehicle Damage\")\n",
    "plt.xticks([0, 1], ['No Damage', 'Damage'])  # Setting custom labels for clarity\n",
    "plt.show()\n"
   ]
  },
  {
   "cell_type": "code",
   "execution_count": 84,
   "id": "a5c5888e",
   "metadata": {},
   "outputs": [
    {
     "data": {
      "image/png": "[encoded data removed]",
      "text/plain": [
       "<Figure size 640x480 with 1 Axes>"
      ]
     },
     "metadata": {},
     "output_type": "display_data"
    }
   ],
   "source": [
    "# Exploring the relationship between 'Response' and 'Previously_Insured'\n",
    "prev_ins_ax = sns.countplot(x='Previously_Insured', hue='Response', data=data)\n",
    "plt.title(\"Response Distribution with Respect to Previous Insurance Status\")\n",
    "plt.xticks([0, 1], ['Not Insured', 'Insured'])  # Setting custom labels for clarity\n",
    "plt.show()\n"
   ]
  },
  {
   "cell_type": "code",
   "execution_count": 85,
   "id": "92030afe",
   "metadata": {},
   "outputs": [
    {
     "data": {
      "image/png": "[encoded data removed]",
      "text/plain": [
       "<Figure size 640x480 with 1 Axes>"
      ]
     },
     "metadata": {},
     "output_type": "display_data"
    }
   ],
   "source": [
    "# Analyzing the relationship between 'Response' and 'Vehicle_Age'\n",
    "veh_age_ax = sns.countplot(x='Vehicle_Age', hue='Response', data=data)\n",
    "plt.title(\"Response Distribution with Respect to Vehicle Age\")\n",
    "plt.xticks([0, 1, 2], ['< 1 Year', '1-2 Year', '> 2 Years'])  # Setting custom labels for clarity\n",
    "plt.show()\n"
   ]
  },
  {
   "cell_type": "markdown",
   "id": "6fb3b3e8",
   "metadata": {},
   "source": [
    "# Module 4\n",
    "## Data Preparation for Model Training"
   ]
  },
  {
   "cell_type": "code",
   "execution_count": 86,
   "id": "982a7734",
   "metadata": {},
   "outputs": [
    {
     "data": {
      "text/plain": [
       "((70171, 10), (17543, 10), (70171,), (17543,))"
      ]
     },
     "execution_count": 86,
     "metadata": {},
     "output_type": "execute_result"
    }
   ],
   "source": [
    "from sklearn.model_selection import train_test_split\n",
    "from imblearn.over_sampling import SMOTE\n",
    "\n",
    "# Separating features and target variable\n",
    "X = data.drop('Response', axis=1)\n",
    "y = data['Response']\n",
    "\n",
    "# Applying SMOTE for class balancing\n",
    "smote = SMOTE(random_state=4)\n",
    "X_res, y_res = smote.fit_resample(X, y)\n",
    "\n",
    "# Splitting the resampled data into training and validation sets (80:20 ratio)\n",
    "X_train, X_validation, Y_train, Y_validation = train_test_split(X_res, y_res, test_size=0.20, random_state=4)\n",
    "\n",
    "# Checking the shapes of the training and validation sets\n",
    "(X_train.shape, X_validation.shape, Y_train.shape, Y_validation.shape)\n"
   ]
  },
  {
   "cell_type": "code",
   "execution_count": 87,
   "id": "a7009975",
   "metadata": {},
   "outputs": [
    {
     "name": "stdout",
     "output_type": "stream",
     "text": [
      "Accuracy of the model is: 0.8838853103802087\n",
      "Precision of the model is: 0.8510350566940601\n",
      "Recall of the model is: 0.9311404507170499\n",
      "F1-Score of the model is: 0.8892874612750693\n"
     ]
    }
   ],
   "source": [
    "from sklearn.ensemble import ExtraTreesClassifier\n",
    "from sklearn.metrics import accuracy_score, precision_score, recall_score, f1_score\n",
    "\n",
    "# Training the Extra Trees Classifier model\n",
    "extra_trees_model = ExtraTreesClassifier(random_state=4)\n",
    "extra_trees_model.fit(X_train, Y_train)\n",
    "\n",
    "# Making predictions on the validation set\n",
    "Y_pred = extra_trees_model.predict(X_validation)\n",
    "\n",
    "# Calculating evaluation metrics\n",
    "accuracy = accuracy_score(Y_validation, Y_pred)\n",
    "precision = precision_score(Y_validation, Y_pred)\n",
    "recall = recall_score(Y_validation, Y_pred)\n",
    "f1 = f1_score(Y_validation, Y_pred)\n",
    "\n",
    "print(\"Accuracy of the model is:\", accuracy)\n",
    "print(\"Precision of the model is:\", precision)\n",
    "print(\"Recall of the model is:\", recall)\n",
    "print(\"F1-Score of the model is:\", f1)"
   ]
  },
  {
   "cell_type": "code",
   "execution_count": 88,
   "id": "053f4d54",
   "metadata": {},
   "outputs": [
    {
     "name": "stdout",
     "output_type": "stream",
     "text": [
      "Accuracy: 0.8158239753747933\n",
      "Precision: 0.7513802154041089\n",
      "Recall: 0.9449123605736399\n",
      "F1 Score: 0.8371061255356693\n"
     ]
    }
   ],
   "source": [
    "import warnings\n",
    "from sklearn.neighbors import KNeighborsClassifier\n",
    "from sklearn.metrics import accuracy_score, precision_score, recall_score, f1_score\n",
    "\n",
    "# Ignoring FutureWarning globally\n",
    "warnings.simplefilter(action='ignore', category=FutureWarning)\n",
    "\n",
    "# Creating the KNN model\n",
    "knn_model = KNeighborsClassifier(n_neighbors=3)\n",
    "\n",
    "# Training the KNN model\n",
    "knn_model.fit(X_train, Y_train)\n",
    "\n",
    "# Making predictions on the validation set\n",
    "Y_pred_knn = knn_model.predict(X_validation)\n",
    "\n",
    "# Calculating evaluation metrics for the KNN model\n",
    "accuracy_knn = accuracy_score(Y_validation, Y_pred_knn)\n",
    "precision_knn = precision_score(Y_validation, Y_pred_knn)\n",
    "recall_knn = recall_score(Y_validation, Y_pred_knn)\n",
    "f1_knn = f1_score(Y_validation, Y_pred_knn)\n",
    "\n",
    "print(\"Accuracy:\", accuracy_knn)\n",
    "print(\"Precision:\", precision_knn)\n",
    "print(\"Recall:\", recall_knn)\n",
    "print(\"F1 Score:\", f1_knn)\n"
   ]
  },
  {
   "cell_type": "code",
   "execution_count": 89,
   "id": "bece3caf",
   "metadata": {},
   "outputs": [
    {
     "name": "stdout",
     "output_type": "stream",
     "text": [
      "Accuracy: 0.8679245283018868\n",
      "Precision: 0.8611142123478843\n",
      "Recall: 0.8778738902799909\n",
      "F1 Score: 0.8694132897480696\n"
     ]
    }
   ],
   "source": [
    "from sklearn.tree import DecisionTreeClassifier\n",
    "\n",
    "# Creating the Decision Tree model\n",
    "decision_tree_model = DecisionTreeClassifier(random_state=4)\n",
    "\n",
    "# Training the Decision Tree model\n",
    "decision_tree_model.fit(X_train, Y_train)\n",
    "\n",
    "# Making predictions on the validation set\n",
    "Y_pred_dt = decision_tree_model.predict(X_validation)\n",
    "\n",
    "# Calculating evaluation metrics for the Decision Tree model\n",
    "accuracy_dt = accuracy_score(Y_validation, Y_pred_dt)\n",
    "precision_dt = precision_score(Y_validation, Y_pred_dt)\n",
    "recall_dt = recall_score(Y_validation, Y_pred_dt)\n",
    "f1_dt = f1_score(Y_validation, Y_pred_dt)\n",
    "\n",
    "print(\"Accuracy:\", accuracy_dt)\n",
    "print(\"Precision:\", precision_dt)\n",
    "print(\"Recall:\", recall_dt)\n",
    "print(\"F1 Score:\", f1_dt)\n",
    "\n"
   ]
  },
  {
   "cell_type": "code",
   "execution_count": 90,
   "id": "61c53cd4",
   "metadata": {},
   "outputs": [
    {
     "name": "stdout",
     "output_type": "stream",
     "text": [
      "Accuracy of the model is: 0.7857835033916661\n",
      "Precision of the model is: 0.7302197802197802\n",
      "Recall of the model is: 0.9075802412929661\n",
      "F1-Score of the model is: 0.8092966609154573\n"
     ]
    }
   ],
   "source": [
    "from sklearn.naive_bayes import GaussianNB\n",
    "\n",
    "# Initializing and training the Gaussian Naive Bayes model\n",
    "gaussian_nb_model = GaussianNB()\n",
    "gaussian_nb_model.fit(X_train, Y_train)\n",
    "\n",
    "# Making predictions on the validation set\n",
    "Y_pred_gnb = gaussian_nb_model.predict(X_validation)\n",
    "\n",
    "# Calculating evaluation metrics for the Gaussian Naive Bayes model\n",
    "accuracy_gnb = accuracy_score(Y_validation, Y_pred_gnb)\n",
    "precision_gnb = precision_score(Y_validation, Y_pred_gnb)\n",
    "recall_gnb = recall_score(Y_validation, Y_pred_gnb)\n",
    "f1_gnb = f1_score(Y_validation, Y_pred_gnb)\n",
    "\n",
    "print(\"Accuracy of the model is:\", accuracy_gnb)\n",
    "print(\"Precision of the model is:\", precision_gnb)\n",
    "print(\"Recall of the model is:\", recall_gnb)\n",
    "print(\"F1-Score of the model is:\", f1_gnb)\n"
   ]
  },
  {
   "cell_type": "code",
   "execution_count": 91,
   "id": "d9c3670d",
   "metadata": {},
   "outputs": [
    {
     "name": "stdout",
     "output_type": "stream",
     "text": [
      "Accuracy of the model is: 0.7694807045545232\n",
      "Precision of the model is: 0.6953691496374423\n",
      "Recall of the model is: 0.960505349419531\n",
      "F1-Score of the model is: 0.8067106395182105\n"
     ]
    }
   ],
   "source": [
    "from sklearn.discriminant_analysis import LinearDiscriminantAnalysis\n",
    "\n",
    "# Initializing and training the Linear Discriminant Analysis model\n",
    "lda_model = LinearDiscriminantAnalysis()\n",
    "lda_model.fit(X_train, Y_train)\n",
    "\n",
    "# Making predictions on the validation set\n",
    "Y_pred_lda = lda_model.predict(X_validation)\n",
    "\n",
    "# Calculating evaluation metrics for the Linear Discriminant Analysis model\n",
    "accuracy_lda = accuracy_score(Y_validation, Y_pred_lda)\n",
    "precision_lda = precision_score(Y_validation, Y_pred_lda)\n",
    "recall_lda = recall_score(Y_validation, Y_pred_lda)\n",
    "f1_lda = f1_score(Y_validation, Y_pred_lda)\n",
    "\n",
    "print(\"Accuracy of the model is:\", accuracy_lda)\n",
    "print(\"Precision of the model is:\", precision_lda)\n",
    "print(\"Recall of the model is:\", recall_lda)\n",
    "print(\"F1-Score of the model is:\", f1_lda)\n"
   ]
  },
  {
   "cell_type": "code",
   "execution_count": 92,
   "id": "7565e2a7",
   "metadata": {},
   "outputs": [
    {
     "name": "stdout",
     "output_type": "stream",
     "text": [
      "Accuracy of the model is: 0.8956278857664025\n",
      "Precision of the model is: 0.8758240570625743\n",
      "Recall of the model is: 0.922376508081038\n",
      "F1-Score of the model is: 0.8984976994290148\n"
     ]
    }
   ],
   "source": [
    "from sklearn.ensemble import RandomForestClassifier\n",
    "\n",
    "# Initializing the Random Forest Classifier model with specified parameters\n",
    "random_forest_model = RandomForestClassifier(n_estimators=100, max_features=3, random_state=4)\n",
    "\n",
    "# Training the Random Forest Classifier model\n",
    "random_forest_model.fit(X_train, Y_train)\n",
    "\n",
    "# Making predictions on the validation set\n",
    "Y_pred_rf = random_forest_model.predict(X_validation)\n",
    "\n",
    "# Calculating evaluation metrics for the Random Forest Classifier model\n",
    "accuracy_rf = accuracy_score(Y_validation, Y_pred_rf)\n",
    "precision_rf = precision_score(Y_validation, Y_pred_rf)\n",
    "recall_rf = recall_score(Y_validation, Y_pred_rf)\n",
    "f1_rf = f1_score(Y_validation, Y_pred_rf)\n",
    "\n",
    "print(\"Accuracy of the model is:\", accuracy_rf)\n",
    "print(\"Precision of the model is:\", precision_rf)\n",
    "print(\"Recall of the model is:\", recall_rf)\n",
    "print(\"F1-Score of the model is:\", f1_rf)\n"
   ]
  },
  {
   "cell_type": "code",
   "execution_count": 93,
   "id": "d8662330",
   "metadata": {},
   "outputs": [
    {
     "data": {
      "text/html": [
       "<div>\n",
       "<style scoped>\n",
       "    .dataframe tbody tr th:only-of-type {\n",
       "        vertical-align: middle;\n",
       "    }\n",
       "\n",
       "    .dataframe tbody tr th {\n",
       "        vertical-align: top;\n",
       "    }\n",
       "\n",
       "    .dataframe thead th {\n",
       "        text-align: right;\n",
       "    }\n",
       "</style>\n",
       "<table border=\"1\" class=\"dataframe\">\n",
       "  <thead>\n",
       "    <tr style=\"text-align: right;\">\n",
       "      <th></th>\n",
       "      <th>Accuracy</th>\n",
       "      <th>Precision</th>\n",
       "      <th>Recall</th>\n",
       "      <th>F1 Score</th>\n",
       "    </tr>\n",
       "    <tr>\n",
       "      <th>Model</th>\n",
       "      <th></th>\n",
       "      <th></th>\n",
       "      <th></th>\n",
       "      <th></th>\n",
       "    </tr>\n",
       "  </thead>\n",
       "  <tbody>\n",
       "    <tr>\n",
       "      <th>Random Forest Classifier</th>\n",
       "      <td>0.896</td>\n",
       "      <td>0.876</td>\n",
       "      <td>0.922</td>\n",
       "      <td>0.898</td>\n",
       "    </tr>\n",
       "    <tr>\n",
       "      <th>Linear Discriminant Analysis</th>\n",
       "      <td>0.769</td>\n",
       "      <td>0.695</td>\n",
       "      <td>0.961</td>\n",
       "      <td>0.807</td>\n",
       "    </tr>\n",
       "    <tr>\n",
       "      <th>Gaussian NB</th>\n",
       "      <td>0.786</td>\n",
       "      <td>0.730</td>\n",
       "      <td>0.908</td>\n",
       "      <td>0.809</td>\n",
       "    </tr>\n",
       "    <tr>\n",
       "      <th>Decision Tree Classifier</th>\n",
       "      <td>0.868</td>\n",
       "      <td>0.861</td>\n",
       "      <td>0.878</td>\n",
       "      <td>0.869</td>\n",
       "    </tr>\n",
       "    <tr>\n",
       "      <th>KNeighbors Classifier</th>\n",
       "      <td>0.816</td>\n",
       "      <td>0.751</td>\n",
       "      <td>0.945</td>\n",
       "      <td>0.837</td>\n",
       "    </tr>\n",
       "    <tr>\n",
       "      <th>Extra Trees Classifier</th>\n",
       "      <td>0.884</td>\n",
       "      <td>0.851</td>\n",
       "      <td>0.931</td>\n",
       "      <td>0.889</td>\n",
       "    </tr>\n",
       "  </tbody>\n",
       "</table>\n",
       "</div>"
      ],
      "text/plain": [
       "                              Accuracy  Precision  Recall  F1 Score\n",
       "Model                                                              \n",
       "Random Forest Classifier         0.896      0.876   0.922     0.898\n",
       "Linear Discriminant Analysis     0.769      0.695   0.961     0.807\n",
       "Gaussian NB                      0.786      0.730   0.908     0.809\n",
       "Decision Tree Classifier         0.868      0.861   0.878     0.869\n",
       "KNeighbors Classifier            0.816      0.751   0.945     0.837\n",
       "Extra Trees Classifier           0.884      0.851   0.931     0.889"
      ]
     },
     "execution_count": 93,
     "metadata": {},
     "output_type": "execute_result"
    }
   ],
   "source": [
    "import pandas as pd\n",
    "\n",
    "# Creating a DataFrame to display the metrics of all the models\n",
    "model_metrics = {\n",
    "    \"Model\": [\n",
    "        \"Random Forest Classifier\", \n",
    "        \"Linear Discriminant Analysis\", \n",
    "        \"Gaussian NB\", \n",
    "        \"Decision Tree Classifier\", \n",
    "        \"KNeighbors Classifier\", \n",
    "        \"Extra Trees Classifier\"\n",
    "    ],\n",
    "    \"Accuracy\": [\n",
    "        0.8956278857664025, \n",
    "        0.7694807045545232, \n",
    "        0.7857835033916661, \n",
    "        0.8679245283018868, \n",
    "        0.8158239753747933, \n",
    "        0.8838853103802087\n",
    "    ],\n",
    "    \"Precision\": [\n",
    "        0.8758240570625743, \n",
    "        0.6953691496374423, \n",
    "        0.7302197802197802, \n",
    "        0.8611142123478843, \n",
    "        0.7513802154041089, \n",
    "        0.8510350566940601\n",
    "    ],\n",
    "    \"Recall\": [\n",
    "        0.922376508081038, \n",
    "        0.960505349419531, \n",
    "        0.9075802412929661, \n",
    "        0.8778738902799909, \n",
    "        0.9449123605736399, \n",
    "        0.9311404507170499\n",
    "    ],\n",
    "    \"F1 Score\": [\n",
    "        0.8984976994290148, \n",
    "        0.8067106395182105, \n",
    "        0.8092966609154573, \n",
    "        0.8694132897480696, \n",
    "        0.8371061255356693, \n",
    "        0.8892874612750693\n",
    "    ]\n",
    "}\n",
    "\n",
    "metrics_df = pd.DataFrame(model_metrics)\n",
    "metrics_df.set_index(\"Model\", inplace=True)\n",
    "\n",
    "# Formatting the DataFrame to display the metrics with only 3 decimal places\n",
    "metrics_df_rounded = metrics_df.round(3)\n",
    "metrics_df_rounded\n"
   ]
  },
  {
   "cell_type": "code",
   "execution_count": 96,
   "id": "05456bb7",
   "metadata": {},
   "outputs": [
    {
     "name": "stdout",
     "output_type": "stream",
     "text": [
      "Accuracy: 89.56%\n",
      "Confusion Matrix:\n",
      "- True Negatives (TN): 7608\n",
      "- False Positives (FP): 1149\n",
      "- False Negatives (FN): 682\n",
      "- True Positives (TP): 8104\n",
      "Classification Report:\n",
      "              precision    recall  f1-score   support\n",
      "\n",
      "           0       0.92      0.87      0.89      8757\n",
      "           1       0.88      0.92      0.90      8786\n",
      "\n",
      "    accuracy                           0.90     17543\n",
      "   macro avg       0.90      0.90      0.90     17543\n",
      "weighted avg       0.90      0.90      0.90     17543\n",
      "\n"
     ]
    }
   ],
   "source": [
    "# Formatting the evaluation output for better readability\n",
    "accuracy_formatted = f\"Accuracy: {accuracy_best_model:.2%}\"\n",
    "confusion_matrix_formatted = (\n",
    "    f\"Confusion Matrix:\\n\"\n",
    "    f\"- True Negatives (TN): {confusion_matrix_best_model[0][0]}\\n\"\n",
    "    f\"- False Positives (FP): {confusion_matrix_best_model[0][1]}\\n\"\n",
    "    f\"- False Negatives (FN): {confusion_matrix_best_model[1][0]}\\n\"\n",
    "    f\"- True Positives (TP): {confusion_matrix_best_model[1][1]}\"\n",
    ")\n",
    "classification_report_formatted = f\"Classification Report:\\n{classification_report_best_model}\"\n",
    "\n",
    "print(accuracy_formatted)\n",
    "print(confusion_matrix_formatted)\n",
    "print(classification_report_formatted)\n"
   ]
  },
  {
   "cell_type": "code",
   "execution_count": 95,
   "id": "4d03effe",
   "metadata": {},
   "outputs": [
    {
     "name": "stdout",
     "output_type": "stream",
     "text": [
      "Prediction for the provided sample data: [1]\n"
     ]
    }
   ],
   "source": [
    "sample_data = pd.DataFrame([[1, 44, 1, 28.0, 0, 3, 1, 40454.0, 26.0, 217]],\n",
    "                     columns=['Gender', 'Age', 'Driving_License', 'Region_Code', 'Previously_Insured',\n",
    "                              'Vehicle_Age', 'Vehicle_Damage', 'Annual_Premium', 'Policy_Sales_Channel', 'Vintage'])\n",
    "\n",
    "# Assuming sample_data is a DataFrame with the necessary features\n",
    "prediction = best_model.predict(sample_data)\n",
    "\n",
    "# Output the prediction\n",
    "print(\"Prediction for the provided sample data:\", prediction)\n"
   ]
  }
 ],
 "metadata": {
  "kernelspec": {
   "display_name": "Python 3 (ipykernel)",
   "language": "python",
   "name": "python3"
  },
  "language_info": {
   "codemirror_mode": {
    "name": "ipython",
    "version": 3
   },
   "file_extension": ".py",
   "mimetype": "text/x-python",
   "name": "python",
   "nbconvert_exporter": "python",
   "pygments_lexer": "ipython3",
   "version": "3.9.13"
  }
 },
 "nbformat": 4,
 "nbformat_minor": 5
}
